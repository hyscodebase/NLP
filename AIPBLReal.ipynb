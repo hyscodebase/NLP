{
 "cells": [
  {
   "metadata": {},
   "cell_type": "markdown",
   "source": "데이터 직군 연봉 예측",
   "id": "d882fa7ae8df7246"
  },
  {
   "cell_type": "code",
   "id": "initial_id",
   "metadata": {
    "collapsed": true,
    "ExecuteTime": {
     "end_time": "2025-05-20T01:41:57.108760Z",
     "start_time": "2025-05-20T01:41:57.106266Z"
    }
   },
   "source": [
    "# ▶ Warnings 제거\n",
    "import warnings\n",
    "warnings.filterwarnings('ignore')"
   ],
   "outputs": [],
   "execution_count": 2
  },
  {
   "metadata": {
    "ExecuteTime": {
     "end_time": "2025-05-20T01:41:57.139174Z",
     "start_time": "2025-05-20T01:41:57.127902Z"
    }
   },
   "cell_type": "code",
   "source": [
    "# ▶ pd.set option\n",
    "import pandas as pd\n",
    "pd.set_option('display.max_columns',100)\n",
    "pd.set_option('display.max_rows',100)\n",
    "\n",
    "# ▶ Data read\n",
    "df = pd.read_csv(\"ds_salaries.csv\")\n",
    "df.head()"
   ],
   "id": "d0259f9e8353e1a1",
   "outputs": [
    {
     "data": {
      "text/plain": [
       "   Unnamed: 0  work_year experience_level employment_type  \\\n",
       "0           0       2020               MI              FT   \n",
       "1           1       2020               SE              FT   \n",
       "2           2       2020               SE              FT   \n",
       "3           3       2020               MI              FT   \n",
       "4           4       2020               SE              FT   \n",
       "\n",
       "                    job_title  salary salary_currency  salary_in_usd  \\\n",
       "0              Data Scientist   70000             EUR          79833   \n",
       "1  Machine Learning Scientist  260000             USD         260000   \n",
       "2           Big Data Engineer   85000             GBP         109024   \n",
       "3        Product Data Analyst   20000             USD          20000   \n",
       "4   Machine Learning Engineer  150000             USD         150000   \n",
       "\n",
       "  employee_residence  remote_ratio company_location company_size  \n",
       "0                 DE             0               DE            L  \n",
       "1                 JP             0               JP            S  \n",
       "2                 GB            50               GB            M  \n",
       "3                 HN             0               HN            S  \n",
       "4                 US            50               US            L  "
      ],
      "text/html": [
       "<div>\n",
       "<style scoped>\n",
       "    .dataframe tbody tr th:only-of-type {\n",
       "        vertical-align: middle;\n",
       "    }\n",
       "\n",
       "    .dataframe tbody tr th {\n",
       "        vertical-align: top;\n",
       "    }\n",
       "\n",
       "    .dataframe thead th {\n",
       "        text-align: right;\n",
       "    }\n",
       "</style>\n",
       "<table border=\"1\" class=\"dataframe\">\n",
       "  <thead>\n",
       "    <tr style=\"text-align: right;\">\n",
       "      <th></th>\n",
       "      <th>Unnamed: 0</th>\n",
       "      <th>work_year</th>\n",
       "      <th>experience_level</th>\n",
       "      <th>employment_type</th>\n",
       "      <th>job_title</th>\n",
       "      <th>salary</th>\n",
       "      <th>salary_currency</th>\n",
       "      <th>salary_in_usd</th>\n",
       "      <th>employee_residence</th>\n",
       "      <th>remote_ratio</th>\n",
       "      <th>company_location</th>\n",
       "      <th>company_size</th>\n",
       "    </tr>\n",
       "  </thead>\n",
       "  <tbody>\n",
       "    <tr>\n",
       "      <th>0</th>\n",
       "      <td>0</td>\n",
       "      <td>2020</td>\n",
       "      <td>MI</td>\n",
       "      <td>FT</td>\n",
       "      <td>Data Scientist</td>\n",
       "      <td>70000</td>\n",
       "      <td>EUR</td>\n",
       "      <td>79833</td>\n",
       "      <td>DE</td>\n",
       "      <td>0</td>\n",
       "      <td>DE</td>\n",
       "      <td>L</td>\n",
       "    </tr>\n",
       "    <tr>\n",
       "      <th>1</th>\n",
       "      <td>1</td>\n",
       "      <td>2020</td>\n",
       "      <td>SE</td>\n",
       "      <td>FT</td>\n",
       "      <td>Machine Learning Scientist</td>\n",
       "      <td>260000</td>\n",
       "      <td>USD</td>\n",
       "      <td>260000</td>\n",
       "      <td>JP</td>\n",
       "      <td>0</td>\n",
       "      <td>JP</td>\n",
       "      <td>S</td>\n",
       "    </tr>\n",
       "    <tr>\n",
       "      <th>2</th>\n",
       "      <td>2</td>\n",
       "      <td>2020</td>\n",
       "      <td>SE</td>\n",
       "      <td>FT</td>\n",
       "      <td>Big Data Engineer</td>\n",
       "      <td>85000</td>\n",
       "      <td>GBP</td>\n",
       "      <td>109024</td>\n",
       "      <td>GB</td>\n",
       "      <td>50</td>\n",
       "      <td>GB</td>\n",
       "      <td>M</td>\n",
       "    </tr>\n",
       "    <tr>\n",
       "      <th>3</th>\n",
       "      <td>3</td>\n",
       "      <td>2020</td>\n",
       "      <td>MI</td>\n",
       "      <td>FT</td>\n",
       "      <td>Product Data Analyst</td>\n",
       "      <td>20000</td>\n",
       "      <td>USD</td>\n",
       "      <td>20000</td>\n",
       "      <td>HN</td>\n",
       "      <td>0</td>\n",
       "      <td>HN</td>\n",
       "      <td>S</td>\n",
       "    </tr>\n",
       "    <tr>\n",
       "      <th>4</th>\n",
       "      <td>4</td>\n",
       "      <td>2020</td>\n",
       "      <td>SE</td>\n",
       "      <td>FT</td>\n",
       "      <td>Machine Learning Engineer</td>\n",
       "      <td>150000</td>\n",
       "      <td>USD</td>\n",
       "      <td>150000</td>\n",
       "      <td>US</td>\n",
       "      <td>50</td>\n",
       "      <td>US</td>\n",
       "      <td>L</td>\n",
       "    </tr>\n",
       "  </tbody>\n",
       "</table>\n",
       "</div>"
      ]
     },
     "execution_count": 3,
     "metadata": {},
     "output_type": "execute_result"
    }
   ],
   "execution_count": 3
  },
  {
   "metadata": {},
   "cell_type": "markdown",
   "source": [
    "> **데이터 살펴보기**\n",
    "* 데이터 명세\n",
    "* https://www.kaggle.com/datasets/ruchi798/data-science-job-salaries\n",
    "\n",
    "|Column|Description|\n",
    "|:---|:---|\n",
    "|work_year| 급여를 지급한 해|\n",
    "|experience_level|직무 경험수준 (EN : 주니어 / MI : 중급, SE : 시니어 레벨, 전문가 / EX : 임원급, 이사)|\n",
    "|employment_type|고용 유형 (PT: 파트타임 / FT : 풀타임 / CT : 계약직 / FL : 프리랜서)|\n",
    "|job_title|직무|\n",
    "|salary|총 급여|\n",
    "|salary_currency|통화 코드|\n",
    "|salaryinusd|급여(USD)|\n",
    "|employee_residence|근무 연도 중 거주 국가|\n",
    "|remote_ratio|원격 근무 비율|\n",
    "|company_location|회수 위치|\n",
    "|company_size|당해 연도 평균 근무인원 (S : 50인 미만(소) / M : 50~250인(중) / L : 250인 이상(대))|\n",
    "\n",
    "\n"
   ],
   "id": "ab506ba02f41fbb7"
  },
  {
   "metadata": {},
   "cell_type": "markdown",
   "source": [
    "\n",
    "## **문제해결 프로세스 정의**\n",
    "---\n",
    "> **문제정의**\n",
    "\n",
    "```\n",
    "▶ 데이터 직군 직원 채용 시 연봉 산정 어려움\n",
    "```\n",
    "\n",
    "> **기대효과**\n",
    "\n",
    "```\n",
    "▶ 채용 시 연봉 산정 베이스 라인 활용으로 원활한 채용 진행\n",
    "```\n",
    "\n",
    "> **해결방안**\n",
    "\n",
    "```\n",
    "▶ 지원자의 정보를 통해 데이터 직군 연봉 추정(예측)\n",
    " - Data 전처리 및 EDA\n",
    " - 가설을 수립하고 데이터를 통해 검증\n",
    " - MLP 활용 연봉 에측 모델링 수행\n",
    "```\n"
   ],
   "id": "db136fcf28100591"
  },
  {
   "metadata": {},
   "cell_type": "markdown",
   "source": [
    "### · Data 전처리\n",
    "---\n",
    "* 수집된 데이터의 기본 정보들을 확인\n",
    "\n",
    "  (1) Data shape(형태) 확인\n",
    "\n",
    "  (2) Data type 확인\n",
    "\n",
    "  (3) Null값 확인 (※ 빈 값의 Data)\n",
    "\n",
    "  (4) Outlier 확인 (※ 정상적인 범주를 벗어난 Data)"
   ],
   "id": "eb0081a90af2d19f"
  },
  {
   "metadata": {
    "ExecuteTime": {
     "end_time": "2025-05-20T01:41:57.179607Z",
     "start_time": "2025-05-20T01:41:57.176911Z"
    }
   },
   "cell_type": "code",
   "source": [
    "# ▶ Data 형태 확인\n",
    "# ▶ 607 row, 12 col로 구성됨\n",
    "print('df :', df.shape)"
   ],
   "id": "139bf59d996c13e1",
   "outputs": [
    {
     "name": "stdout",
     "output_type": "stream",
     "text": [
      "df : (607, 12)\n"
     ]
    }
   ],
   "execution_count": 4
  },
  {
   "metadata": {
    "ExecuteTime": {
     "end_time": "2025-05-20T01:41:57.212543Z",
     "start_time": "2025-05-20T01:41:57.208143Z"
    }
   },
   "cell_type": "code",
   "source": [
    "# ▶ Data type 확인\n",
    "df.info()"
   ],
   "id": "4df7296ae272e2aa",
   "outputs": [
    {
     "name": "stdout",
     "output_type": "stream",
     "text": [
      "<class 'pandas.core.frame.DataFrame'>\n",
      "RangeIndex: 607 entries, 0 to 606\n",
      "Data columns (total 12 columns):\n",
      " #   Column              Non-Null Count  Dtype \n",
      "---  ------              --------------  ----- \n",
      " 0   Unnamed: 0          607 non-null    int64 \n",
      " 1   work_year           607 non-null    int64 \n",
      " 2   experience_level    607 non-null    object\n",
      " 3   employment_type     607 non-null    object\n",
      " 4   job_title           607 non-null    object\n",
      " 5   salary              607 non-null    int64 \n",
      " 6   salary_currency     607 non-null    object\n",
      " 7   salary_in_usd       607 non-null    int64 \n",
      " 8   employee_residence  607 non-null    object\n",
      " 9   remote_ratio        607 non-null    int64 \n",
      " 10  company_location    607 non-null    object\n",
      " 11  company_size        607 non-null    object\n",
      "dtypes: int64(5), object(7)\n",
      "memory usage: 57.0+ KB\n"
     ]
    }
   ],
   "execution_count": 5
  },
  {
   "metadata": {
    "ExecuteTime": {
     "end_time": "2025-05-20T01:41:57.257835Z",
     "start_time": "2025-05-20T01:41:57.255061Z"
    }
   },
   "cell_type": "code",
   "source": [
    "# ▶ Null 값 확인\n",
    "print(df.isnull().sum())"
   ],
   "id": "a3dc4041f545b0ab",
   "outputs": [
    {
     "name": "stdout",
     "output_type": "stream",
     "text": [
      "Unnamed: 0            0\n",
      "work_year             0\n",
      "experience_level      0\n",
      "employment_type       0\n",
      "job_title             0\n",
      "salary                0\n",
      "salary_currency       0\n",
      "salary_in_usd         0\n",
      "employee_residence    0\n",
      "remote_ratio          0\n",
      "company_location      0\n",
      "company_size          0\n",
      "dtype: int64\n"
     ]
    }
   ],
   "execution_count": 6
  },
  {
   "metadata": {
    "ExecuteTime": {
     "end_time": "2025-05-20T01:41:57.292124Z",
     "start_time": "2025-05-20T01:41:57.284770Z"
    }
   },
   "cell_type": "code",
   "source": [
    "# ▶ Outlier 확인\n",
    "df.describe()"
   ],
   "id": "825242db173371e5",
   "outputs": [
    {
     "data": {
      "text/plain": [
       "       Unnamed: 0    work_year        salary  salary_in_usd  remote_ratio\n",
       "count  607.000000   607.000000  6.070000e+02     607.000000     607.00000\n",
       "mean   303.000000  2021.405272  3.240001e+05  112297.869852      70.92257\n",
       "std    175.370085     0.692133  1.544357e+06   70957.259411      40.70913\n",
       "min      0.000000  2020.000000  4.000000e+03    2859.000000       0.00000\n",
       "25%    151.500000  2021.000000  7.000000e+04   62726.000000      50.00000\n",
       "50%    303.000000  2022.000000  1.150000e+05  101570.000000     100.00000\n",
       "75%    454.500000  2022.000000  1.650000e+05  150000.000000     100.00000\n",
       "max    606.000000  2022.000000  3.040000e+07  600000.000000     100.00000"
      ],
      "text/html": [
       "<div>\n",
       "<style scoped>\n",
       "    .dataframe tbody tr th:only-of-type {\n",
       "        vertical-align: middle;\n",
       "    }\n",
       "\n",
       "    .dataframe tbody tr th {\n",
       "        vertical-align: top;\n",
       "    }\n",
       "\n",
       "    .dataframe thead th {\n",
       "        text-align: right;\n",
       "    }\n",
       "</style>\n",
       "<table border=\"1\" class=\"dataframe\">\n",
       "  <thead>\n",
       "    <tr style=\"text-align: right;\">\n",
       "      <th></th>\n",
       "      <th>Unnamed: 0</th>\n",
       "      <th>work_year</th>\n",
       "      <th>salary</th>\n",
       "      <th>salary_in_usd</th>\n",
       "      <th>remote_ratio</th>\n",
       "    </tr>\n",
       "  </thead>\n",
       "  <tbody>\n",
       "    <tr>\n",
       "      <th>count</th>\n",
       "      <td>607.000000</td>\n",
       "      <td>607.000000</td>\n",
       "      <td>6.070000e+02</td>\n",
       "      <td>607.000000</td>\n",
       "      <td>607.00000</td>\n",
       "    </tr>\n",
       "    <tr>\n",
       "      <th>mean</th>\n",
       "      <td>303.000000</td>\n",
       "      <td>2021.405272</td>\n",
       "      <td>3.240001e+05</td>\n",
       "      <td>112297.869852</td>\n",
       "      <td>70.92257</td>\n",
       "    </tr>\n",
       "    <tr>\n",
       "      <th>std</th>\n",
       "      <td>175.370085</td>\n",
       "      <td>0.692133</td>\n",
       "      <td>1.544357e+06</td>\n",
       "      <td>70957.259411</td>\n",
       "      <td>40.70913</td>\n",
       "    </tr>\n",
       "    <tr>\n",
       "      <th>min</th>\n",
       "      <td>0.000000</td>\n",
       "      <td>2020.000000</td>\n",
       "      <td>4.000000e+03</td>\n",
       "      <td>2859.000000</td>\n",
       "      <td>0.00000</td>\n",
       "    </tr>\n",
       "    <tr>\n",
       "      <th>25%</th>\n",
       "      <td>151.500000</td>\n",
       "      <td>2021.000000</td>\n",
       "      <td>7.000000e+04</td>\n",
       "      <td>62726.000000</td>\n",
       "      <td>50.00000</td>\n",
       "    </tr>\n",
       "    <tr>\n",
       "      <th>50%</th>\n",
       "      <td>303.000000</td>\n",
       "      <td>2022.000000</td>\n",
       "      <td>1.150000e+05</td>\n",
       "      <td>101570.000000</td>\n",
       "      <td>100.00000</td>\n",
       "    </tr>\n",
       "    <tr>\n",
       "      <th>75%</th>\n",
       "      <td>454.500000</td>\n",
       "      <td>2022.000000</td>\n",
       "      <td>1.650000e+05</td>\n",
       "      <td>150000.000000</td>\n",
       "      <td>100.00000</td>\n",
       "    </tr>\n",
       "    <tr>\n",
       "      <th>max</th>\n",
       "      <td>606.000000</td>\n",
       "      <td>2022.000000</td>\n",
       "      <td>3.040000e+07</td>\n",
       "      <td>600000.000000</td>\n",
       "      <td>100.00000</td>\n",
       "    </tr>\n",
       "  </tbody>\n",
       "</table>\n",
       "</div>"
      ]
     },
     "execution_count": 7,
     "metadata": {},
     "output_type": "execute_result"
    }
   ],
   "execution_count": 7
  },
  {
   "metadata": {},
   "cell_type": "markdown",
   "source": [
    "### · Data EDA\n",
    "---\n",
    "* 데이터 특성 파악을 위한 초기 탐색"
   ],
   "id": "9624ce6dea1fd812"
  },
  {
   "metadata": {
    "ExecuteTime": {
     "end_time": "2025-05-20T01:41:57.393924Z",
     "start_time": "2025-05-20T01:41:57.389595Z"
    }
   },
   "cell_type": "code",
   "source": [
    "# ▶ 필요 없는 변수 사전 제거\n",
    "# ▶ 범용적으로 사용할 수 있는 salary_in_usd col만 사용\n",
    "df = df.drop(['Unnamed: 0', 'salary_currency', 'salary'], axis=1)\n",
    "df.head()"
   ],
   "id": "a6e7f6578da80d92",
   "outputs": [
    {
     "data": {
      "text/plain": [
       "   work_year experience_level employment_type                   job_title  \\\n",
       "0       2020               MI              FT              Data Scientist   \n",
       "1       2020               SE              FT  Machine Learning Scientist   \n",
       "2       2020               SE              FT           Big Data Engineer   \n",
       "3       2020               MI              FT        Product Data Analyst   \n",
       "4       2020               SE              FT   Machine Learning Engineer   \n",
       "\n",
       "   salary_in_usd employee_residence  remote_ratio company_location  \\\n",
       "0          79833                 DE             0               DE   \n",
       "1         260000                 JP             0               JP   \n",
       "2         109024                 GB            50               GB   \n",
       "3          20000                 HN             0               HN   \n",
       "4         150000                 US            50               US   \n",
       "\n",
       "  company_size  \n",
       "0            L  \n",
       "1            S  \n",
       "2            M  \n",
       "3            S  \n",
       "4            L  "
      ],
      "text/html": [
       "<div>\n",
       "<style scoped>\n",
       "    .dataframe tbody tr th:only-of-type {\n",
       "        vertical-align: middle;\n",
       "    }\n",
       "\n",
       "    .dataframe tbody tr th {\n",
       "        vertical-align: top;\n",
       "    }\n",
       "\n",
       "    .dataframe thead th {\n",
       "        text-align: right;\n",
       "    }\n",
       "</style>\n",
       "<table border=\"1\" class=\"dataframe\">\n",
       "  <thead>\n",
       "    <tr style=\"text-align: right;\">\n",
       "      <th></th>\n",
       "      <th>work_year</th>\n",
       "      <th>experience_level</th>\n",
       "      <th>employment_type</th>\n",
       "      <th>job_title</th>\n",
       "      <th>salary_in_usd</th>\n",
       "      <th>employee_residence</th>\n",
       "      <th>remote_ratio</th>\n",
       "      <th>company_location</th>\n",
       "      <th>company_size</th>\n",
       "    </tr>\n",
       "  </thead>\n",
       "  <tbody>\n",
       "    <tr>\n",
       "      <th>0</th>\n",
       "      <td>2020</td>\n",
       "      <td>MI</td>\n",
       "      <td>FT</td>\n",
       "      <td>Data Scientist</td>\n",
       "      <td>79833</td>\n",
       "      <td>DE</td>\n",
       "      <td>0</td>\n",
       "      <td>DE</td>\n",
       "      <td>L</td>\n",
       "    </tr>\n",
       "    <tr>\n",
       "      <th>1</th>\n",
       "      <td>2020</td>\n",
       "      <td>SE</td>\n",
       "      <td>FT</td>\n",
       "      <td>Machine Learning Scientist</td>\n",
       "      <td>260000</td>\n",
       "      <td>JP</td>\n",
       "      <td>0</td>\n",
       "      <td>JP</td>\n",
       "      <td>S</td>\n",
       "    </tr>\n",
       "    <tr>\n",
       "      <th>2</th>\n",
       "      <td>2020</td>\n",
       "      <td>SE</td>\n",
       "      <td>FT</td>\n",
       "      <td>Big Data Engineer</td>\n",
       "      <td>109024</td>\n",
       "      <td>GB</td>\n",
       "      <td>50</td>\n",
       "      <td>GB</td>\n",
       "      <td>M</td>\n",
       "    </tr>\n",
       "    <tr>\n",
       "      <th>3</th>\n",
       "      <td>2020</td>\n",
       "      <td>MI</td>\n",
       "      <td>FT</td>\n",
       "      <td>Product Data Analyst</td>\n",
       "      <td>20000</td>\n",
       "      <td>HN</td>\n",
       "      <td>0</td>\n",
       "      <td>HN</td>\n",
       "      <td>S</td>\n",
       "    </tr>\n",
       "    <tr>\n",
       "      <th>4</th>\n",
       "      <td>2020</td>\n",
       "      <td>SE</td>\n",
       "      <td>FT</td>\n",
       "      <td>Machine Learning Engineer</td>\n",
       "      <td>150000</td>\n",
       "      <td>US</td>\n",
       "      <td>50</td>\n",
       "      <td>US</td>\n",
       "      <td>L</td>\n",
       "    </tr>\n",
       "  </tbody>\n",
       "</table>\n",
       "</div>"
      ]
     },
     "execution_count": 8,
     "metadata": {},
     "output_type": "execute_result"
    }
   ],
   "execution_count": 8
  },
  {
   "metadata": {
    "ExecuteTime": {
     "end_time": "2025-05-20T01:41:57.431684Z",
     "start_time": "2025-05-20T01:41:57.429247Z"
    }
   },
   "cell_type": "code",
   "source": [
    "# ▶ 숫자형, 범주형 변수 분할\n",
    "numerical_list=[]\n",
    "categorical_list=[]\n",
    "\n",
    "for i in df.columns :\n",
    "  if df[i].dtypes == 'O' :\n",
    "    categorical_list.append(i)\n",
    "  else :\n",
    "    numerical_list.append(i)\n",
    "\n",
    "print(\"categorical_list :\", categorical_list)\n",
    "print(\"numerical_list :\", numerical_list)"
   ],
   "id": "23d0ab47efd41fb1",
   "outputs": [
    {
     "name": "stdout",
     "output_type": "stream",
     "text": [
      "categorical_list : ['experience_level', 'employment_type', 'job_title', 'employee_residence', 'company_location', 'company_size']\n",
      "numerical_list : ['work_year', 'salary_in_usd', 'remote_ratio']\n"
     ]
    }
   ],
   "execution_count": 9
  },
  {
   "metadata": {
    "ExecuteTime": {
     "end_time": "2025-05-20T01:41:57.562825Z",
     "start_time": "2025-05-20T01:41:57.557751Z"
    }
   },
   "cell_type": "code",
   "source": [
    "# ▶ 범주형 변수 유니크 값 출력\n",
    "list_of_df = []\n",
    "\n",
    "for var in categorical_list :\n",
    "  loop_df = pd.DataFrame({'var':[var], 'ncnt':[df[var].nunique()]})\n",
    "  list_of_df.append(loop_df)\n",
    "\n",
    "df_concat = pd.concat(list_of_df).reset_index(drop=True)\n",
    "df_concat"
   ],
   "id": "60c2e862a8cfef1d",
   "outputs": [
    {
     "data": {
      "text/plain": [
       "                  var  ncnt\n",
       "0    experience_level     4\n",
       "1     employment_type     4\n",
       "2           job_title    50\n",
       "3  employee_residence    57\n",
       "4    company_location    50\n",
       "5        company_size     3"
      ],
      "text/html": [
       "<div>\n",
       "<style scoped>\n",
       "    .dataframe tbody tr th:only-of-type {\n",
       "        vertical-align: middle;\n",
       "    }\n",
       "\n",
       "    .dataframe tbody tr th {\n",
       "        vertical-align: top;\n",
       "    }\n",
       "\n",
       "    .dataframe thead th {\n",
       "        text-align: right;\n",
       "    }\n",
       "</style>\n",
       "<table border=\"1\" class=\"dataframe\">\n",
       "  <thead>\n",
       "    <tr style=\"text-align: right;\">\n",
       "      <th></th>\n",
       "      <th>var</th>\n",
       "      <th>ncnt</th>\n",
       "    </tr>\n",
       "  </thead>\n",
       "  <tbody>\n",
       "    <tr>\n",
       "      <th>0</th>\n",
       "      <td>experience_level</td>\n",
       "      <td>4</td>\n",
       "    </tr>\n",
       "    <tr>\n",
       "      <th>1</th>\n",
       "      <td>employment_type</td>\n",
       "      <td>4</td>\n",
       "    </tr>\n",
       "    <tr>\n",
       "      <th>2</th>\n",
       "      <td>job_title</td>\n",
       "      <td>50</td>\n",
       "    </tr>\n",
       "    <tr>\n",
       "      <th>3</th>\n",
       "      <td>employee_residence</td>\n",
       "      <td>57</td>\n",
       "    </tr>\n",
       "    <tr>\n",
       "      <th>4</th>\n",
       "      <td>company_location</td>\n",
       "      <td>50</td>\n",
       "    </tr>\n",
       "    <tr>\n",
       "      <th>5</th>\n",
       "      <td>company_size</td>\n",
       "      <td>3</td>\n",
       "    </tr>\n",
       "  </tbody>\n",
       "</table>\n",
       "</div>"
      ]
     },
     "execution_count": 10,
     "metadata": {},
     "output_type": "execute_result"
    }
   ],
   "execution_count": 10
  },
  {
   "metadata": {
    "ExecuteTime": {
     "end_time": "2025-05-20T01:41:57.609890Z",
     "start_time": "2025-05-20T01:41:57.604281Z"
    }
   },
   "cell_type": "code",
   "source": [
    "# ▶ job_title 살펴보기\n",
    "# job_title 열의 값 개수를 계산하고 DataFrame으로 변환\n",
    "df_job = pd.DataFrame(df['job_title'].value_counts()).reset_index()\n",
    "df_job.columns = ['job_title', 'count']  # 열 이름 지정\n",
    "df_job.head(10)"
   ],
   "id": "cf41816be9510d4",
   "outputs": [
    {
     "data": {
      "text/plain": [
       "                    job_title  count\n",
       "0              Data Scientist    143\n",
       "1               Data Engineer    132\n",
       "2                Data Analyst     97\n",
       "3   Machine Learning Engineer     41\n",
       "4          Research Scientist     16\n",
       "5        Data Science Manager     12\n",
       "6              Data Architect     11\n",
       "7           Big Data Engineer      8\n",
       "8  Machine Learning Scientist      8\n",
       "9    Principal Data Scientist      7"
      ],
      "text/html": [
       "<div>\n",
       "<style scoped>\n",
       "    .dataframe tbody tr th:only-of-type {\n",
       "        vertical-align: middle;\n",
       "    }\n",
       "\n",
       "    .dataframe tbody tr th {\n",
       "        vertical-align: top;\n",
       "    }\n",
       "\n",
       "    .dataframe thead th {\n",
       "        text-align: right;\n",
       "    }\n",
       "</style>\n",
       "<table border=\"1\" class=\"dataframe\">\n",
       "  <thead>\n",
       "    <tr style=\"text-align: right;\">\n",
       "      <th></th>\n",
       "      <th>job_title</th>\n",
       "      <th>count</th>\n",
       "    </tr>\n",
       "  </thead>\n",
       "  <tbody>\n",
       "    <tr>\n",
       "      <th>0</th>\n",
       "      <td>Data Scientist</td>\n",
       "      <td>143</td>\n",
       "    </tr>\n",
       "    <tr>\n",
       "      <th>1</th>\n",
       "      <td>Data Engineer</td>\n",
       "      <td>132</td>\n",
       "    </tr>\n",
       "    <tr>\n",
       "      <th>2</th>\n",
       "      <td>Data Analyst</td>\n",
       "      <td>97</td>\n",
       "    </tr>\n",
       "    <tr>\n",
       "      <th>3</th>\n",
       "      <td>Machine Learning Engineer</td>\n",
       "      <td>41</td>\n",
       "    </tr>\n",
       "    <tr>\n",
       "      <th>4</th>\n",
       "      <td>Research Scientist</td>\n",
       "      <td>16</td>\n",
       "    </tr>\n",
       "    <tr>\n",
       "      <th>5</th>\n",
       "      <td>Data Science Manager</td>\n",
       "      <td>12</td>\n",
       "    </tr>\n",
       "    <tr>\n",
       "      <th>6</th>\n",
       "      <td>Data Architect</td>\n",
       "      <td>11</td>\n",
       "    </tr>\n",
       "    <tr>\n",
       "      <th>7</th>\n",
       "      <td>Big Data Engineer</td>\n",
       "      <td>8</td>\n",
       "    </tr>\n",
       "    <tr>\n",
       "      <th>8</th>\n",
       "      <td>Machine Learning Scientist</td>\n",
       "      <td>8</td>\n",
       "    </tr>\n",
       "    <tr>\n",
       "      <th>9</th>\n",
       "      <td>Principal Data Scientist</td>\n",
       "      <td>7</td>\n",
       "    </tr>\n",
       "  </tbody>\n",
       "</table>\n",
       "</div>"
      ]
     },
     "execution_count": 11,
     "metadata": {},
     "output_type": "execute_result"
    }
   ],
   "execution_count": 11
  },
  {
   "metadata": {
    "ExecuteTime": {
     "end_time": "2025-05-20T01:41:57.929724Z",
     "start_time": "2025-05-20T01:41:57.713454Z"
    }
   },
   "cell_type": "code",
   "source": [
    "from matplotlib import pyplot as plt\n",
    "\n",
    "#df_job = pd.DataFrame(df['job_title'].value_counts()).reset_index()\n",
    "#df_job.columns = ['job_title', 'count']  # 컬럼 이름 지정\n",
    "\n",
    "# 오름차순 정렬\n",
    "df_job = df_job.sort_values(by=['count'])\n",
    "\n",
    "fig = plt.figure(figsize=(5, 15))\n",
    "plt.title('Job Title')\n",
    "plt.barh(df_job['job_title'], df_job['count'])  # 수정된 부분\n",
    "plt.show()"
   ],
   "id": "c7940846f24247da",
   "outputs": [
    {
     "data": {
      "text/plain": [
       "<Figure size 500x1500 with 1 Axes>"
      ],
      "image/png": "[encoded data removed]"
     },
     "metadata": {},
     "output_type": "display_data"
    }
   ],
   "execution_count": 12
  },
  {
   "metadata": {},
   "cell_type": "markdown",
   "source": [
    "# 가설설정\n",
    "### · ① 연도가 증가할 수록 연봉이 상승할 것이다.\n",
    "---"
   ],
   "id": "fe16c966d7cee336"
  },
  {
   "metadata": {
    "ExecuteTime": {
     "end_time": "2025-05-20T01:41:57.968061Z",
     "start_time": "2025-05-20T01:41:57.963488Z"
    }
   },
   "cell_type": "code",
   "source": [
    "# ▶ 데이터 확인\n",
    "df.head()"
   ],
   "id": "e06a44cbd770badb",
   "outputs": [
    {
     "data": {
      "text/plain": [
       "   work_year experience_level employment_type                   job_title  \\\n",
       "0       2020               MI              FT              Data Scientist   \n",
       "1       2020               SE              FT  Machine Learning Scientist   \n",
       "2       2020               SE              FT           Big Data Engineer   \n",
       "3       2020               MI              FT        Product Data Analyst   \n",
       "4       2020               SE              FT   Machine Learning Engineer   \n",
       "\n",
       "   salary_in_usd employee_residence  remote_ratio company_location  \\\n",
       "0          79833                 DE             0               DE   \n",
       "1         260000                 JP             0               JP   \n",
       "2         109024                 GB            50               GB   \n",
       "3          20000                 HN             0               HN   \n",
       "4         150000                 US            50               US   \n",
       "\n",
       "  company_size  \n",
       "0            L  \n",
       "1            S  \n",
       "2            M  \n",
       "3            S  \n",
       "4            L  "
      ],
      "text/html": [
       "<div>\n",
       "<style scoped>\n",
       "    .dataframe tbody tr th:only-of-type {\n",
       "        vertical-align: middle;\n",
       "    }\n",
       "\n",
       "    .dataframe tbody tr th {\n",
       "        vertical-align: top;\n",
       "    }\n",
       "\n",
       "    .dataframe thead th {\n",
       "        text-align: right;\n",
       "    }\n",
       "</style>\n",
       "<table border=\"1\" class=\"dataframe\">\n",
       "  <thead>\n",
       "    <tr style=\"text-align: right;\">\n",
       "      <th></th>\n",
       "      <th>work_year</th>\n",
       "      <th>experience_level</th>\n",
       "      <th>employment_type</th>\n",
       "      <th>job_title</th>\n",
       "      <th>salary_in_usd</th>\n",
       "      <th>employee_residence</th>\n",
       "      <th>remote_ratio</th>\n",
       "      <th>company_location</th>\n",
       "      <th>company_size</th>\n",
       "    </tr>\n",
       "  </thead>\n",
       "  <tbody>\n",
       "    <tr>\n",
       "      <th>0</th>\n",
       "      <td>2020</td>\n",
       "      <td>MI</td>\n",
       "      <td>FT</td>\n",
       "      <td>Data Scientist</td>\n",
       "      <td>79833</td>\n",
       "      <td>DE</td>\n",
       "      <td>0</td>\n",
       "      <td>DE</td>\n",
       "      <td>L</td>\n",
       "    </tr>\n",
       "    <tr>\n",
       "      <th>1</th>\n",
       "      <td>2020</td>\n",
       "      <td>SE</td>\n",
       "      <td>FT</td>\n",
       "      <td>Machine Learning Scientist</td>\n",
       "      <td>260000</td>\n",
       "      <td>JP</td>\n",
       "      <td>0</td>\n",
       "      <td>JP</td>\n",
       "      <td>S</td>\n",
       "    </tr>\n",
       "    <tr>\n",
       "      <th>2</th>\n",
       "      <td>2020</td>\n",
       "      <td>SE</td>\n",
       "      <td>FT</td>\n",
       "      <td>Big Data Engineer</td>\n",
       "      <td>109024</td>\n",
       "      <td>GB</td>\n",
       "      <td>50</td>\n",
       "      <td>GB</td>\n",
       "      <td>M</td>\n",
       "    </tr>\n",
       "    <tr>\n",
       "      <th>3</th>\n",
       "      <td>2020</td>\n",
       "      <td>MI</td>\n",
       "      <td>FT</td>\n",
       "      <td>Product Data Analyst</td>\n",
       "      <td>20000</td>\n",
       "      <td>HN</td>\n",
       "      <td>0</td>\n",
       "      <td>HN</td>\n",
       "      <td>S</td>\n",
       "    </tr>\n",
       "    <tr>\n",
       "      <th>4</th>\n",
       "      <td>2020</td>\n",
       "      <td>SE</td>\n",
       "      <td>FT</td>\n",
       "      <td>Machine Learning Engineer</td>\n",
       "      <td>150000</td>\n",
       "      <td>US</td>\n",
       "      <td>50</td>\n",
       "      <td>US</td>\n",
       "      <td>L</td>\n",
       "    </tr>\n",
       "  </tbody>\n",
       "</table>\n",
       "</div>"
      ]
     },
     "execution_count": 13,
     "metadata": {},
     "output_type": "execute_result"
    }
   ],
   "execution_count": 13
  },
  {
   "metadata": {
    "ExecuteTime": {
     "end_time": "2025-05-20T01:41:58.015348Z",
     "start_time": "2025-05-20T01:41:58.010739Z"
    }
   },
   "cell_type": "code",
   "source": [
    "# ▶ 연도 별 평균 연봉 계산\n",
    "df_work_year = pd.DataFrame(df.groupby('work_year')['salary_in_usd'].mean()).reset_index()\n",
    "df_work_year"
   ],
   "id": "97d34c7d363a4a03",
   "outputs": [
    {
     "data": {
      "text/plain": [
       "   work_year  salary_in_usd\n",
       "0       2020   95813.000000\n",
       "1       2021   99853.792627\n",
       "2       2022  124522.006289"
      ],
      "text/html": [
       "<div>\n",
       "<style scoped>\n",
       "    .dataframe tbody tr th:only-of-type {\n",
       "        vertical-align: middle;\n",
       "    }\n",
       "\n",
       "    .dataframe tbody tr th {\n",
       "        vertical-align: top;\n",
       "    }\n",
       "\n",
       "    .dataframe thead th {\n",
       "        text-align: right;\n",
       "    }\n",
       "</style>\n",
       "<table border=\"1\" class=\"dataframe\">\n",
       "  <thead>\n",
       "    <tr style=\"text-align: right;\">\n",
       "      <th></th>\n",
       "      <th>work_year</th>\n",
       "      <th>salary_in_usd</th>\n",
       "    </tr>\n",
       "  </thead>\n",
       "  <tbody>\n",
       "    <tr>\n",
       "      <th>0</th>\n",
       "      <td>2020</td>\n",
       "      <td>95813.000000</td>\n",
       "    </tr>\n",
       "    <tr>\n",
       "      <th>1</th>\n",
       "      <td>2021</td>\n",
       "      <td>99853.792627</td>\n",
       "    </tr>\n",
       "    <tr>\n",
       "      <th>2</th>\n",
       "      <td>2022</td>\n",
       "      <td>124522.006289</td>\n",
       "    </tr>\n",
       "  </tbody>\n",
       "</table>\n",
       "</div>"
      ]
     },
     "execution_count": 14,
     "metadata": {},
     "output_type": "execute_result"
    }
   ],
   "execution_count": 14
  },
  {
   "metadata": {
    "ExecuteTime": {
     "end_time": "2025-05-20T01:41:58.088468Z",
     "start_time": "2025-05-20T01:41:58.056987Z"
    }
   },
   "cell_type": "code",
   "source": [
    "# ▶ 연도 별 평균 연봉 시각화\n",
    "plt.bar(df_work_year['work_year'].astype(str), df_work_year['salary_in_usd']);"
   ],
   "id": "fabb95b24dfcb4f3",
   "outputs": [
    {
     "data": {
      "text/plain": [
       "<Figure size 640x480 with 1 Axes>"
      ],
      "image/png": "[encoded data removed]"
     },
     "metadata": {},
     "output_type": "display_data"
    }
   ],
   "execution_count": 15
  },
  {
   "metadata": {
    "ExecuteTime": {
     "end_time": "2025-05-20T01:41:58.169576Z",
     "start_time": "2025-05-20T01:41:58.166326Z"
    }
   },
   "cell_type": "code",
   "source": "df['job_title'].head()",
   "id": "b9a6ce8ca53659cb",
   "outputs": [
    {
     "data": {
      "text/plain": [
       "0                Data Scientist\n",
       "1    Machine Learning Scientist\n",
       "2             Big Data Engineer\n",
       "3          Product Data Analyst\n",
       "4     Machine Learning Engineer\n",
       "Name: job_title, dtype: object"
      ]
     },
     "execution_count": 16,
     "metadata": {},
     "output_type": "execute_result"
    }
   ],
   "execution_count": 16
  },
  {
   "metadata": {
    "ExecuteTime": {
     "end_time": "2025-05-20T01:41:58.214036Z",
     "start_time": "2025-05-20T01:41:58.209029Z"
    }
   },
   "cell_type": "code",
   "source": [
    "# ▶ Top 3 직군별 연봉 비교 분석\n",
    "top3 = ['Data Scientist', 'Data Engineer', 'Data Analyst']\n",
    "df_top3 = pd.DataFrame(df[df['job_title'].isin(top3)].groupby(['work_year', 'job_title'])['salary_in_usd'].mean())\n",
    "df_top3.reset_index(inplace=True)\n",
    "df_top3"
   ],
   "id": "8ee92d8967475f84",
   "outputs": [
    {
     "data": {
      "text/plain": [
       "   work_year       job_title  salary_in_usd\n",
       "0       2020    Data Analyst   45547.285714\n",
       "1       2020   Data Engineer   88162.000000\n",
       "2       2020  Data Scientist   85970.523810\n",
       "3       2021    Data Analyst   79505.411765\n",
       "4       2021   Data Engineer   83202.531250\n",
       "5       2021  Data Scientist   70671.733333\n",
       "6       2022    Data Analyst  100550.739726\n",
       "7       2022   Data Engineer  126375.696629\n",
       "8       2022  Data Scientist  136172.090909"
      ],
      "text/html": [
       "<div>\n",
       "<style scoped>\n",
       "    .dataframe tbody tr th:only-of-type {\n",
       "        vertical-align: middle;\n",
       "    }\n",
       "\n",
       "    .dataframe tbody tr th {\n",
       "        vertical-align: top;\n",
       "    }\n",
       "\n",
       "    .dataframe thead th {\n",
       "        text-align: right;\n",
       "    }\n",
       "</style>\n",
       "<table border=\"1\" class=\"dataframe\">\n",
       "  <thead>\n",
       "    <tr style=\"text-align: right;\">\n",
       "      <th></th>\n",
       "      <th>work_year</th>\n",
       "      <th>job_title</th>\n",
       "      <th>salary_in_usd</th>\n",
       "    </tr>\n",
       "  </thead>\n",
       "  <tbody>\n",
       "    <tr>\n",
       "      <th>0</th>\n",
       "      <td>2020</td>\n",
       "      <td>Data Analyst</td>\n",
       "      <td>45547.285714</td>\n",
       "    </tr>\n",
       "    <tr>\n",
       "      <th>1</th>\n",
       "      <td>2020</td>\n",
       "      <td>Data Engineer</td>\n",
       "      <td>88162.000000</td>\n",
       "    </tr>\n",
       "    <tr>\n",
       "      <th>2</th>\n",
       "      <td>2020</td>\n",
       "      <td>Data Scientist</td>\n",
       "      <td>85970.523810</td>\n",
       "    </tr>\n",
       "    <tr>\n",
       "      <th>3</th>\n",
       "      <td>2021</td>\n",
       "      <td>Data Analyst</td>\n",
       "      <td>79505.411765</td>\n",
       "    </tr>\n",
       "    <tr>\n",
       "      <th>4</th>\n",
       "      <td>2021</td>\n",
       "      <td>Data Engineer</td>\n",
       "      <td>83202.531250</td>\n",
       "    </tr>\n",
       "    <tr>\n",
       "      <th>5</th>\n",
       "      <td>2021</td>\n",
       "      <td>Data Scientist</td>\n",
       "      <td>70671.733333</td>\n",
       "    </tr>\n",
       "    <tr>\n",
       "      <th>6</th>\n",
       "      <td>2022</td>\n",
       "      <td>Data Analyst</td>\n",
       "      <td>100550.739726</td>\n",
       "    </tr>\n",
       "    <tr>\n",
       "      <th>7</th>\n",
       "      <td>2022</td>\n",
       "      <td>Data Engineer</td>\n",
       "      <td>126375.696629</td>\n",
       "    </tr>\n",
       "    <tr>\n",
       "      <th>8</th>\n",
       "      <td>2022</td>\n",
       "      <td>Data Scientist</td>\n",
       "      <td>136172.090909</td>\n",
       "    </tr>\n",
       "  </tbody>\n",
       "</table>\n",
       "</div>"
      ]
     },
     "execution_count": 17,
     "metadata": {},
     "output_type": "execute_result"
    }
   ],
   "execution_count": 17
  },
  {
   "metadata": {
    "ExecuteTime": {
     "end_time": "2025-05-20T01:41:58.354869Z",
     "start_time": "2025-05-20T01:41:58.278700Z"
    }
   },
   "cell_type": "code",
   "source": [
    "# ▶ 연도 별 평균 연봉 시각화\n",
    "# ▶ DS가 치고 올라왔다.\n",
    "import seaborn as sns\n",
    "plt.figure(figsize=(20, 5))\n",
    "sns.barplot(x=df_top3['work_year'].astype(str), y=df_top3['salary_in_usd'], hue='job_title', data=df_top3);"
   ],
   "id": "222d2c5d33b95acb",
   "outputs": [
    {
     "data": {
      "text/plain": [
       "<Figure size 2000x500 with 1 Axes>"
      ],
      "image/png": "[encoded data removed]"
     },
     "metadata": {},
     "output_type": "display_data"
    }
   ],
   "execution_count": 18
  },
  {
   "metadata": {
    "ExecuteTime": {
     "end_time": "2025-05-20T01:41:58.414211Z",
     "start_time": "2025-05-20T01:41:58.404239Z"
    }
   },
   "cell_type": "code",
   "source": [
    "# ▶ 상승률 비교\n",
    "import pandas as pd\n",
    "df_top3_ratio = pd.pivot_table(df_top3, index=['job_title'], columns=['work_year'], values=['salary_in_usd']).reset_index()\n",
    "df_top3_ratio"
   ],
   "id": "e14ab097c2c4a0c9",
   "outputs": [
    {
     "data": {
      "text/plain": [
       "                job_title salary_in_usd                             \n",
       "work_year                          2020          2021           2022\n",
       "0            Data Analyst  45547.285714  79505.411765  100550.739726\n",
       "1           Data Engineer  88162.000000  83202.531250  126375.696629\n",
       "2          Data Scientist  85970.523810  70671.733333  136172.090909"
      ],
      "text/html": [
       "<div>\n",
       "<style scoped>\n",
       "    .dataframe tbody tr th:only-of-type {\n",
       "        vertical-align: middle;\n",
       "    }\n",
       "\n",
       "    .dataframe tbody tr th {\n",
       "        vertical-align: top;\n",
       "    }\n",
       "\n",
       "    .dataframe thead tr th {\n",
       "        text-align: left;\n",
       "    }\n",
       "</style>\n",
       "<table border=\"1\" class=\"dataframe\">\n",
       "  <thead>\n",
       "    <tr>\n",
       "      <th></th>\n",
       "      <th>job_title</th>\n",
       "      <th colspan=\"3\" halign=\"left\">salary_in_usd</th>\n",
       "    </tr>\n",
       "    <tr>\n",
       "      <th>work_year</th>\n",
       "      <th></th>\n",
       "      <th>2020</th>\n",
       "      <th>2021</th>\n",
       "      <th>2022</th>\n",
       "    </tr>\n",
       "  </thead>\n",
       "  <tbody>\n",
       "    <tr>\n",
       "      <th>0</th>\n",
       "      <td>Data Analyst</td>\n",
       "      <td>45547.285714</td>\n",
       "      <td>79505.411765</td>\n",
       "      <td>100550.739726</td>\n",
       "    </tr>\n",
       "    <tr>\n",
       "      <th>1</th>\n",
       "      <td>Data Engineer</td>\n",
       "      <td>88162.000000</td>\n",
       "      <td>83202.531250</td>\n",
       "      <td>126375.696629</td>\n",
       "    </tr>\n",
       "    <tr>\n",
       "      <th>2</th>\n",
       "      <td>Data Scientist</td>\n",
       "      <td>85970.523810</td>\n",
       "      <td>70671.733333</td>\n",
       "      <td>136172.090909</td>\n",
       "    </tr>\n",
       "  </tbody>\n",
       "</table>\n",
       "</div>"
      ]
     },
     "execution_count": 19,
     "metadata": {},
     "output_type": "execute_result"
    }
   ],
   "execution_count": 19
  },
  {
   "metadata": {
    "ExecuteTime": {
     "end_time": "2025-05-20T01:41:58.486213Z",
     "start_time": "2025-05-20T01:41:58.480512Z"
    }
   },
   "cell_type": "code",
   "source": [
    "# ▶ multi index 해제\n",
    "df_top3_ratio.columns = ['job_title', '2020_s', '2021_s', '2022_s']\n",
    "df_top3_ratio"
   ],
   "id": "6fd6ecd47202a886",
   "outputs": [
    {
     "data": {
      "text/plain": [
       "        job_title        2020_s        2021_s         2022_s\n",
       "0    Data Analyst  45547.285714  79505.411765  100550.739726\n",
       "1   Data Engineer  88162.000000  83202.531250  126375.696629\n",
       "2  Data Scientist  85970.523810  70671.733333  136172.090909"
      ],
      "text/html": [
       "<div>\n",
       "<style scoped>\n",
       "    .dataframe tbody tr th:only-of-type {\n",
       "        vertical-align: middle;\n",
       "    }\n",
       "\n",
       "    .dataframe tbody tr th {\n",
       "        vertical-align: top;\n",
       "    }\n",
       "\n",
       "    .dataframe thead th {\n",
       "        text-align: right;\n",
       "    }\n",
       "</style>\n",
       "<table border=\"1\" class=\"dataframe\">\n",
       "  <thead>\n",
       "    <tr style=\"text-align: right;\">\n",
       "      <th></th>\n",
       "      <th>job_title</th>\n",
       "      <th>2020_s</th>\n",
       "      <th>2021_s</th>\n",
       "      <th>2022_s</th>\n",
       "    </tr>\n",
       "  </thead>\n",
       "  <tbody>\n",
       "    <tr>\n",
       "      <th>0</th>\n",
       "      <td>Data Analyst</td>\n",
       "      <td>45547.285714</td>\n",
       "      <td>79505.411765</td>\n",
       "      <td>100550.739726</td>\n",
       "    </tr>\n",
       "    <tr>\n",
       "      <th>1</th>\n",
       "      <td>Data Engineer</td>\n",
       "      <td>88162.000000</td>\n",
       "      <td>83202.531250</td>\n",
       "      <td>126375.696629</td>\n",
       "    </tr>\n",
       "    <tr>\n",
       "      <th>2</th>\n",
       "      <td>Data Scientist</td>\n",
       "      <td>85970.523810</td>\n",
       "      <td>70671.733333</td>\n",
       "      <td>136172.090909</td>\n",
       "    </tr>\n",
       "  </tbody>\n",
       "</table>\n",
       "</div>"
      ]
     },
     "execution_count": 20,
     "metadata": {},
     "output_type": "execute_result"
    }
   ],
   "execution_count": 20
  },
  {
   "metadata": {
    "ExecuteTime": {
     "end_time": "2025-05-20T01:41:58.549244Z",
     "start_time": "2025-05-20T01:41:58.541799Z"
    }
   },
   "cell_type": "code",
   "source": [
    "# ▶ multi index 해제\n",
    "df_top3_ratio['s_i_rate_1st'] = round((df_top3_ratio['2021_s']-df_top3_ratio['2020_s']) / df_top3_ratio['2020_s']* 100,2)\n",
    "df_top3_ratio['s_i_rate_2nd'] = round((df_top3_ratio['2022_s']-df_top3_ratio['2021_s']) / df_top3_ratio['2021_s']* 100,2)\n",
    "df_top3_ratio['s_i_rate_total'] = round((df_top3_ratio['2022_s']-df_top3_ratio['2020_s']) / df_top3_ratio['2020_s']* 100,2)\n",
    "df_top3_ratio"
   ],
   "id": "e2230ccfe4e1e19c",
   "outputs": [
    {
     "data": {
      "text/plain": [
       "        job_title        2020_s        2021_s         2022_s  s_i_rate_1st  \\\n",
       "0    Data Analyst  45547.285714  79505.411765  100550.739726         74.56   \n",
       "1   Data Engineer  88162.000000  83202.531250  126375.696629         -5.63   \n",
       "2  Data Scientist  85970.523810  70671.733333  136172.090909        -17.80   \n",
       "\n",
       "   s_i_rate_2nd  s_i_rate_total  \n",
       "0         26.47          120.76  \n",
       "1         51.89           43.34  \n",
       "2         92.68           58.39  "
      ],
      "text/html": [
       "<div>\n",
       "<style scoped>\n",
       "    .dataframe tbody tr th:only-of-type {\n",
       "        vertical-align: middle;\n",
       "    }\n",
       "\n",
       "    .dataframe tbody tr th {\n",
       "        vertical-align: top;\n",
       "    }\n",
       "\n",
       "    .dataframe thead th {\n",
       "        text-align: right;\n",
       "    }\n",
       "</style>\n",
       "<table border=\"1\" class=\"dataframe\">\n",
       "  <thead>\n",
       "    <tr style=\"text-align: right;\">\n",
       "      <th></th>\n",
       "      <th>job_title</th>\n",
       "      <th>2020_s</th>\n",
       "      <th>2021_s</th>\n",
       "      <th>2022_s</th>\n",
       "      <th>s_i_rate_1st</th>\n",
       "      <th>s_i_rate_2nd</th>\n",
       "      <th>s_i_rate_total</th>\n",
       "    </tr>\n",
       "  </thead>\n",
       "  <tbody>\n",
       "    <tr>\n",
       "      <th>0</th>\n",
       "      <td>Data Analyst</td>\n",
       "      <td>45547.285714</td>\n",
       "      <td>79505.411765</td>\n",
       "      <td>100550.739726</td>\n",
       "      <td>74.56</td>\n",
       "      <td>26.47</td>\n",
       "      <td>120.76</td>\n",
       "    </tr>\n",
       "    <tr>\n",
       "      <th>1</th>\n",
       "      <td>Data Engineer</td>\n",
       "      <td>88162.000000</td>\n",
       "      <td>83202.531250</td>\n",
       "      <td>126375.696629</td>\n",
       "      <td>-5.63</td>\n",
       "      <td>51.89</td>\n",
       "      <td>43.34</td>\n",
       "    </tr>\n",
       "    <tr>\n",
       "      <th>2</th>\n",
       "      <td>Data Scientist</td>\n",
       "      <td>85970.523810</td>\n",
       "      <td>70671.733333</td>\n",
       "      <td>136172.090909</td>\n",
       "      <td>-17.80</td>\n",
       "      <td>92.68</td>\n",
       "      <td>58.39</td>\n",
       "    </tr>\n",
       "  </tbody>\n",
       "</table>\n",
       "</div>"
      ]
     },
     "execution_count": 21,
     "metadata": {},
     "output_type": "execute_result"
    }
   ],
   "execution_count": 21
  },
  {
   "metadata": {},
   "cell_type": "markdown",
   "source": [
    "# 가설 설정\n",
    "### · ② 근무 지역은 연봉에 큰 영향을 미치지 않을 것이다."
   ],
   "id": "2ea07ec16c9575e5"
  },
  {
   "metadata": {
    "ExecuteTime": {
     "end_time": "2025-05-20T01:41:58.711273Z",
     "start_time": "2025-05-20T01:41:58.703709Z"
    }
   },
   "cell_type": "code",
   "source": [
    "#  ▶ top 10 만 출력\n",
    "top_10_residence = ['US', 'GB', 'IN', 'CA', 'DE', 'FR', 'ES', 'GR', 'JP', 'PT']\n",
    "\n",
    "df_top_10_res = pd.DataFrame(df[df['employee_residence'].isin(top_10_residence)].groupby('employee_residence')['salary_in_usd'].mean()).reset_index()\n",
    "df_top_10_res"
   ],
   "id": "c95cf929b01c076c",
   "outputs": [
    {
     "data": {
      "text/plain": [
       "  employee_residence  salary_in_usd\n",
       "0                 CA   97085.310345\n",
       "1                 DE   85552.560000\n",
       "2                 ES   57593.400000\n",
       "3                 FR   59886.611111\n",
       "4                 GB   81403.159091\n",
       "5                 GR   56331.230769\n",
       "6                 IN   37322.333333\n",
       "7                 JP  103537.714286\n",
       "8                 PT   42862.500000\n",
       "9                 US  149194.117470"
      ],
      "text/html": [
       "<div>\n",
       "<style scoped>\n",
       "    .dataframe tbody tr th:only-of-type {\n",
       "        vertical-align: middle;\n",
       "    }\n",
       "\n",
       "    .dataframe tbody tr th {\n",
       "        vertical-align: top;\n",
       "    }\n",
       "\n",
       "    .dataframe thead th {\n",
       "        text-align: right;\n",
       "    }\n",
       "</style>\n",
       "<table border=\"1\" class=\"dataframe\">\n",
       "  <thead>\n",
       "    <tr style=\"text-align: right;\">\n",
       "      <th></th>\n",
       "      <th>employee_residence</th>\n",
       "      <th>salary_in_usd</th>\n",
       "    </tr>\n",
       "  </thead>\n",
       "  <tbody>\n",
       "    <tr>\n",
       "      <th>0</th>\n",
       "      <td>CA</td>\n",
       "      <td>97085.310345</td>\n",
       "    </tr>\n",
       "    <tr>\n",
       "      <th>1</th>\n",
       "      <td>DE</td>\n",
       "      <td>85552.560000</td>\n",
       "    </tr>\n",
       "    <tr>\n",
       "      <th>2</th>\n",
       "      <td>ES</td>\n",
       "      <td>57593.400000</td>\n",
       "    </tr>\n",
       "    <tr>\n",
       "      <th>3</th>\n",
       "      <td>FR</td>\n",
       "      <td>59886.611111</td>\n",
       "    </tr>\n",
       "    <tr>\n",
       "      <th>4</th>\n",
       "      <td>GB</td>\n",
       "      <td>81403.159091</td>\n",
       "    </tr>\n",
       "    <tr>\n",
       "      <th>5</th>\n",
       "      <td>GR</td>\n",
       "      <td>56331.230769</td>\n",
       "    </tr>\n",
       "    <tr>\n",
       "      <th>6</th>\n",
       "      <td>IN</td>\n",
       "      <td>37322.333333</td>\n",
       "    </tr>\n",
       "    <tr>\n",
       "      <th>7</th>\n",
       "      <td>JP</td>\n",
       "      <td>103537.714286</td>\n",
       "    </tr>\n",
       "    <tr>\n",
       "      <th>8</th>\n",
       "      <td>PT</td>\n",
       "      <td>42862.500000</td>\n",
       "    </tr>\n",
       "    <tr>\n",
       "      <th>9</th>\n",
       "      <td>US</td>\n",
       "      <td>149194.117470</td>\n",
       "    </tr>\n",
       "  </tbody>\n",
       "</table>\n",
       "</div>"
      ]
     },
     "execution_count": 22,
     "metadata": {},
     "output_type": "execute_result"
    }
   ],
   "execution_count": 22
  },
  {
   "metadata": {
    "ExecuteTime": {
     "end_time": "2025-05-20T01:41:59.057440Z",
     "start_time": "2025-05-20T01:41:58.949135Z"
    }
   },
   "cell_type": "code",
   "source": [
    "# ▶ Sorting\n",
    "# ▶ US(미국), JP(일본), CA(캐나다), DE(독일), GB(영국), FR(프랑스), ES(스페인), GR(그리스), PT(포르투갈), IN(인도)\n",
    "df_top_10_res = df_top_10_res.sort_values(by=['salary_in_usd'], ascending = False)\n",
    "plt.figure(figsize=(20, 5))\n",
    "sns.barplot(x=df_top_10_res['employee_residence'].astype(str), y=df_top_10_res['salary_in_usd'], data=df_top_10_res);"
   ],
   "id": "28282fe1477f0110",
   "outputs": [
    {
     "data": {
      "text/plain": [
       "<Figure size 2000x500 with 1 Axes>"
      ],
      "image/png": "[encoded data removed]"
     },
     "metadata": {},
     "output_type": "display_data"
    }
   ],
   "execution_count": 23
  },
  {
   "metadata": {},
   "cell_type": "markdown",
   "source": [
    "# MLP 모델링\n",
    "### · 모델링을 위한 데이터 준비\n",
    "---\n",
    "* 모델링을 수행하기 위해 Feature와 예측하고자하는 값인 Y로 데이터를 나눔\n",
    "* 학습과 예측을 위한 Train / Test set 분할"
   ],
   "id": "3f482a424dc0c024"
  },
  {
   "metadata": {
    "ExecuteTime": {
     "end_time": "2025-05-20T01:41:59.409796Z",
     "start_time": "2025-05-20T01:41:59.098968Z"
    }
   },
   "cell_type": "code",
   "source": [
    "# ▶ 범주형 변수를 모델이 이해하기 위한 숫자현 데이터로 변환(OneHotEncoder)\n",
    "# ▶ 범주형 변수의 Level이 예제와 같이 많다고 하면, 다른 인코딩 방법을 고려해 볼 수 도 있음 ex) Binary encoding, Hash encoding 등\n",
    "# ▶ 완벽한 정답은 없음, 모든 방법을 테스트해 보고 성능을 고려하는 것이 Best\n",
    "from sklearn.preprocessing import OneHotEncoder\n",
    "\n",
    "for col in categorical_list:\n",
    "    encoder = OneHotEncoder()\n",
    "    onehot = pd.DataFrame(encoder.fit_transform(df[[col]]).toarray(),\n",
    "                          columns=encoder.get_feature_names_out([col]))\n",
    "    # 기존 컬럼 삭제 후 새로운 OneHot 컬럼 추가\n",
    "    df = pd.concat([df, onehot], axis=1).drop(columns=[col])"
   ],
   "id": "d77e754f6e07d1f0",
   "outputs": [],
   "execution_count": 24
  },
  {
   "metadata": {
    "ExecuteTime": {
     "end_time": "2025-05-20T01:42:02.206159Z",
     "start_time": "2025-05-20T01:41:59.443216Z"
    }
   },
   "cell_type": "code",
   "source": [
    "from sklearn.model_selection import train_test_split\n",
    "from sklearn import preprocessing\n",
    "from sklearn.preprocessing import StandardScaler\n",
    "\n",
    "# ▶ Pytorch libraries import\n",
    "import torch\n",
    "import torch.nn as nn\n",
    "from torch.utils.data import TensorDataset\n",
    "from torch.utils.data import DataLoader\n",
    "\n",
    "X=df.drop(['work_year', 'salary_in_usd'], axis=1)\n",
    "Y=df['salary_in_usd']\n",
    "\n",
    "x_train, x_test, y_train, y_test = train_test_split(X, Y, test_size=0.2, random_state=123)"
   ],
   "id": "c7e7e14d33232a1a",
   "outputs": [],
   "execution_count": 25
  },
  {
   "metadata": {
    "ExecuteTime": {
     "end_time": "2025-05-20T01:42:02.211639Z",
     "start_time": "2025-05-20T01:42:02.209090Z"
    }
   },
   "cell_type": "code",
   "source": [
    "# ▶ 딥러닝에서 Scaling을 하는 이유\n",
    "# 1) 학습 시에 미치는 중요도 일반화\n",
    "# 2) Gradient descent 사용할 때 수렴 속도를 높임\n",
    "# 3) 시그모이드 함수와 같은 활성 함수를 사용할 때, saturation현상(가중치 업데이트 X)이 빨리 일어나지 않도록 도와줌\n",
    "# 4) Local Minimum에 빠질 위험을 감소 시킴\n",
    "scaler = preprocessing.MinMaxScaler()\n",
    "x_train = scaler.fit_transform(x_train.values)\n",
    "x_test =  scaler.transform(x_test.values)"
   ],
   "id": "44c8a1c3194249bd",
   "outputs": [],
   "execution_count": 26
  },
  {
   "metadata": {
    "ExecuteTime": {
     "end_time": "2025-05-20T01:42:02.242374Z",
     "start_time": "2025-05-20T01:42:02.239424Z"
    }
   },
   "cell_type": "code",
   "source": "x_train",
   "id": "d5277319a2bc017f",
   "outputs": [
    {
     "data": {
      "text/plain": [
       "array([[0.5, 0. , 0. , ..., 1. , 0. , 0. ],\n",
       "       [1. , 0. , 0. , ..., 0. , 1. , 0. ],\n",
       "       [0. , 0. , 0. , ..., 0. , 1. , 0. ],\n",
       "       ...,\n",
       "       [1. , 0. , 0. , ..., 0. , 1. , 0. ],\n",
       "       [1. , 0. , 0. , ..., 0. , 1. , 0. ],\n",
       "       [1. , 1. , 0. , ..., 0. , 0. , 1. ]], shape=(485, 169))"
      ]
     },
     "execution_count": 27,
     "metadata": {},
     "output_type": "execute_result"
    }
   ],
   "execution_count": 27
  },
  {
   "metadata": {
    "ExecuteTime": {
     "end_time": "2025-05-20T01:42:02.301967Z",
     "start_time": "2025-05-20T01:42:02.292503Z"
    }
   },
   "cell_type": "code",
   "source": [
    "# ▶ torch.from_numpy 함수를 통해 데이터를 torch에서 인식할 수 있는 tesnor 형태로 변환\n",
    "# ▶ ravel() : 다차원 배열을 1차원에 배열로 평탄화\n",
    "x_tensor =  torch.from_numpy(x_train).float()\n",
    "y_tensor =  torch.from_numpy(y_train.values.ravel()).float()\n",
    "xtest_tensor =  torch.from_numpy(x_test).float()\n",
    "ytest_tensor =  torch.from_numpy(y_test.values.ravel()).float()\n",
    "\n",
    "print(\"[Train set Tensors] \\n\")\n",
    "print(x_tensor)\n",
    "print(y_tensor)\n",
    "print(\"\\n[Test set Tensors] \\n\")\n",
    "print(xtest_tensor)\n",
    "print(ytest_tensor)"
   ],
   "id": "32442edbc8aa9553",
   "outputs": [
    {
     "name": "stdout",
     "output_type": "stream",
     "text": [
      "[Train set Tensors] \n",
      "\n",
      "tensor([[0.5000, 0.0000, 0.0000,  ..., 1.0000, 0.0000, 0.0000],\n",
      "        [1.0000, 0.0000, 0.0000,  ..., 0.0000, 1.0000, 0.0000],\n",
      "        [0.0000, 0.0000, 0.0000,  ..., 0.0000, 1.0000, 0.0000],\n",
      "        ...,\n",
      "        [1.0000, 0.0000, 0.0000,  ..., 0.0000, 1.0000, 0.0000],\n",
      "        [1.0000, 0.0000, 0.0000,  ..., 0.0000, 1.0000, 0.0000],\n",
      "        [1.0000, 1.0000, 0.0000,  ..., 0.0000, 0.0000, 1.0000]])\n",
      "tensor([ 46759., 112900., 450000., 152000., 136600., 100000.,  90000.,   8000.,\n",
      "         12901., 100000., 185100., 276000.,  18442.,  69336., 109000.,  61300.,\n",
      "         50000., 120000., 110000., 168000., 175000.,  87932., 113000.,  63831.,\n",
      "        180000.,  37236.,  82528., 256000., 130000., 145000.,  75000., 120000.,\n",
      "        141300., 235000.,  91614., 115000., 132320.,  86703.,  45618., 130026.,\n",
      "         80000.,  50000., 148261.,  72500.,  71786., 170000., 130000.,  82528.,\n",
      "         77684.,  61300., 130000.,  87932.,  42000.,  20000.,  63810., 241000.,\n",
      "         37300.,  90734.,  51519., 100000.,  45391.,  76833., 160000., 136000.,\n",
      "         52351.,  65949., 116914., 200000.,  70139.,  24823.,  65000.,  47899.,\n",
      "          5679., 423000.,  94665.,  82744., 147800.,  81000., 135000., 167000.,\n",
      "        150000., 209100.,  32974.,  50180.,  31615.,  79833.,  67000., 112900.,\n",
      "        150000., 160000., 151000., 174000.,  98158., 123000., 260000.,  89294.,\n",
      "         26005.,  43331.,  54957., 100000.,  87738.,  76833., 111775.,  66265.,\n",
      "        105400., 214000.,  79833.,  12000., 150000., 100000., 209100.,  56738.,\n",
      "         59303., 140400., 153000.,  60000., 112900.,  21844.,  58000.,  90000.,\n",
      "        135000.,  35590., 205300., 132320., 152500.,  99100.,  33511.,  93150.,\n",
      "         28609.,  96282.,  74000.,  78526., 105000.,  76833.,  62726., 200000.,\n",
      "        210000.,   6072.,  60000.,  25532., 192600., 161342.,  52351., 200000.,\n",
      "         56256.,  69741., 230000.,  93700., 106260., 130000.,  69999., 185000.,\n",
      "         45896.,  84900.,  99360.,  29751., 124333., 129000.,  73000., 157000.,\n",
      "        144000.,  81666., 192564.,  80000.,  91614., 190000., 162674., 170000.,\n",
      "        242000., 167000., 136620.,  39263., 250000.,  87932.,  20000., 150260.,\n",
      "        165000., 165000.,  90320., 170000.,  10000., 150000.,  88654.,  39916.,\n",
      "        150075., 102839., 100000., 200000., 108800., 180000., 325000., 140000.,\n",
      "         63831., 140000.,  24000., 260000.,  40000.,  56000., 117104.,  25000.,\n",
      "         42197.,  47282., 120600.,  54742.,  20171., 235000., 196979., 135000.,\n",
      "         62000., 170000.,  68428., 160000., 150000.,  88654.,  21637., 110000.,\n",
      "        153667.,   9466.,  82500., 120000.,  75774.,  78526., 103691.,  79197.,\n",
      "         40189.,  90320.,  98000., 177000., 137141., 220110., 130800., 150000.,\n",
      "        243900., 140000.,  82900., 112872., 116000.,  80000., 200000.,  98158.,\n",
      "         62651.,  55000.,  81666.,  46597., 250000., 416000.,  54957.,  35735.,\n",
      "        100000., 225000., 112900.,  65438.,  54000.,  72212.,  63711., 215300.,\n",
      "         64849., 115934., 160000.,  75000., 324000., 100800., 115000.,  90000.,\n",
      "         65438.,  61896., 140000.,  59102.,  93427.,  58894., 135000.,  51321.,\n",
      "        100000., 100000., 120000., 165000.,  90320.,  10354.,  91237.,  85000.,\n",
      "         96113.,  77364., 153000., 205300., 103160., 124190., 155000.,  75000.,\n",
      "        167875.,  39263.,  93700.,  21983., 380000., 144854.,  94564., 105000.,\n",
      "        100000., 183600.,  69741.,  50000., 110500., 164000., 116150.,  19609.,\n",
      "         71982., 213120., 147000.,  21669., 230000.,  60757.,   5707., 210000.,\n",
      "         15966., 146000., 140250., 100000.,  99050.,   6072., 450000.,  24342.,\n",
      "        185000.,   4000., 120000.,  52000.,  75000., 412000.,  43966.,  32974.,\n",
      "        150000.,  12103., 173762.,  90000., 140400.,  65013., 100000., 160000.,\n",
      "         13400., 100000.,  18442., 118187.,  45760., 405000.,  90320.,  62726.,\n",
      "        200100., 200000., 135000.,   5409., 120000., 154600., 115000.,  68147.,\n",
      "        220000.,  80000., 165400., 200000., 110925., 126500., 181940., 160000.,\n",
      "         65949., 240000., 125000., 170000.,  58035., 210000., 106260., 117789.,\n",
      "        180000.,  58255.,  93000., 164996., 220110., 110000., 230000., 135000.,\n",
      "        120000.,  78526., 120000., 135000., 132320.,  49461., 160000., 200000.,\n",
      "         76940., 104702.,  99000., 102100., 165220., 184700.,  76958.,  59102.,\n",
      "         30428., 130000.,  41689.,  78791., 174000.,  69000., 154600., 189650.,\n",
      "        135000.,  54094., 104890.,  85000., 110000., 160000.,  16904.,  33808.,\n",
      "        141846.,  20000.,  78526.,  31875., 140000.,  80000., 190200.,  48000.,\n",
      "        224000.,  38776.,  52351.,  91000.,  71444., 120000.,  85000.,  99000.,\n",
      "        104702., 155000., 211500.,  50000.,  40570.,  90700.,  18053.,  99703.,\n",
      "         98158., 144000., 189650., 150000., 140000., 120000.,  80000.,  18907.,\n",
      "        210000.,  62649., 145000.,  63900., 130000., 155000.,  45807.,   5882.,\n",
      "        192400.,  22611., 136994.,  95746.,  90000.,   2859., 115000., 140400.,\n",
      "        126000., 138000., 128875., 109024.,  78791., 105000.,  20000., 112300.,\n",
      "         28399., 109280., 180000., 113476., 225000., 130000., 150000., 188000.,\n",
      "         12000.,  12000.,  24823., 140000., 110037., 187442., 109280., 114047.,\n",
      "         70000., 160080., 128875., 138600., 150000.])\n",
      "\n",
      "[Test set Tensors] \n",
      "\n",
      "tensor([[0.5000, 0.0000, 0.0000,  ..., 1.0000, 0.0000, 0.0000],\n",
      "        [0.0000, 0.0000, 0.0000,  ..., 1.0000, 0.0000, 0.0000],\n",
      "        [1.0000, 0.0000, 1.0000,  ..., 0.0000, 1.0000, 0.0000],\n",
      "        ...,\n",
      "        [1.0000, 0.0000, 0.0000,  ..., 0.0000, 1.0000, 0.0000],\n",
      "        [0.5000, 0.0000, 1.0000,  ..., 1.0000, 0.0000, 0.0000],\n",
      "        [1.0000, 0.0000, 0.0000,  ..., 0.0000, 1.0000, 0.0000]])\n",
      "tensor([ 90734.,  40481., 200000.,  36259., 120000., 112000.,  38400., 200000.,\n",
      "        120000.,  54238.,  60000., 156600.,  20000.,  66022.,  90320., 120160.,\n",
      "        175100.,  46809., 110000., 118000., 215300., 135000.,  55000., 140000.,\n",
      "        208775., 119059., 216000., 150000., 154000., 175000., 164996., 105000.,\n",
      "         85000., 126500.,  28016.,  90000.,  40038., 106000., 165000., 170000.,\n",
      "         74130., 195000.,  60000., 127221., 270000.,  45807.,  28369., 102100.,\n",
      "        125000., 115500., 165400., 123000.,  58000.,  78000., 183228.,  72000.,\n",
      "         36643., 266400., 125000., 105000.,  10000.,  70000.,  88654.,  45807.,\n",
      "        123000.,  80000., 130000.,  65438., 220000., 150000., 180000.,  49268.,\n",
      "         49461., 100000.,  65000., 144000.,  58000.,  87932.,  53192., 132000.,\n",
      "        115934.,  87000., 600000.,  60000.,  95550.,  54957.,  16228.,  80000.,\n",
      "        206699.,  37825.,  18000., 101570., 122346.,   9272.,  76940.,  87425.,\n",
      "        210000.,   4000.,  52396.,  28476., 158200.,  61467.,  70912.,  43966.,\n",
      "        138350., 205300., 115000., 170000., 103000., 160080., 159000., 170000.,\n",
      "        220000., 176000.,  51064., 117789.,  70500.,  49646.,  32974., 100000.,\n",
      "         79039.,  50000.])\n"
     ]
    }
   ],
   "execution_count": 28
  },
  {
   "metadata": {},
   "cell_type": "markdown",
   "source": [
    "### · Dataset 및 DataLoader 생성\n",
    "---\n",
    "* DL을 위한 PyTorch Dataset 및 DataLoader 생성\n",
    "\n",
    "\n"
   ],
   "id": "ed904f5b2975f118"
  },
  {
   "metadata": {
    "ExecuteTime": {
     "end_time": "2025-05-20T01:42:02.333896Z",
     "start_time": "2025-05-20T01:42:02.331245Z"
    }
   },
   "cell_type": "code",
   "source": [
    "# ▶ 배치 사이즈 선정 (batch, iteration, epoch 개념 숙지)\n",
    "# 1) batch : 한 번에 학습시킬 데이터의 양\n",
    "# 2) epoch : 전체 학습 셋이 신경망을 통과한 횟수\n",
    "# 3) iteration : 1-epoch를 마치는데 필요한 batch 개수\n",
    "\n",
    "# ▶ 배치 사이즈 선정\n",
    "bs = 10\n",
    "\n",
    "# ▶ y_tensor가 1차원인 경우에만 unsqueeze(1) 호출\n",
    "if len(y_tensor.shape) == 1:\n",
    "    y_tensor = y_tensor.unsqueeze(1)\n",
    "\n",
    "# ▶ Train Dataset 생성\n",
    "train_ds = TensorDataset(x_tensor, y_tensor)\n",
    "train_dl = DataLoader(train_ds, batch_size=bs)\n",
    "\n",
    "# ▶ ytest_tensor가 1차원인 경우에만 unsqueeze(1) 호출\n",
    "if len(ytest_tensor.shape) == 1:\n",
    "    ytest_tensor = ytest_tensor.unsqueeze(1)\n",
    "\n",
    "# ▶ Test Dataset 생성\n",
    "test_ds = TensorDataset(xtest_tensor, ytest_tensor)\n",
    "test_loader = DataLoader(test_ds, batch_size=bs)"
   ],
   "id": "a872defd4a24c6ec",
   "outputs": [],
   "execution_count": 29
  },
  {
   "metadata": {
    "ExecuteTime": {
     "end_time": "2025-05-20T01:42:02.451680Z",
     "start_time": "2025-05-20T01:42:02.448840Z"
    }
   },
   "cell_type": "code",
   "source": [
    "# ▶ 차원의 수를 맞춰주기 위해 unsqueeze(1) 사용\n",
    "x_tensor.shape, y_tensor.shape"
   ],
   "id": "5fbbd252937ad2e2",
   "outputs": [
    {
     "data": {
      "text/plain": [
       "(torch.Size([485, 169]), torch.Size([485, 1]))"
      ]
     },
     "execution_count": 30,
     "metadata": {},
     "output_type": "execute_result"
    }
   ],
   "execution_count": 30
  },
  {
   "metadata": {},
   "cell_type": "markdown",
   "source": "# 인공신경망 구성\n",
   "id": "42696541991192b0"
  },
  {
   "metadata": {
    "ExecuteTime": {
     "end_time": "2025-05-20T01:42:02.463669Z",
     "start_time": "2025-05-20T01:42:02.459777Z"
    }
   },
   "cell_type": "code",
   "source": [
    "n_input_dim = x_train.shape[1]\n",
    "\n",
    "class Regressor(nn.Module):\n",
    "    # ▶ 사용하기 위한 기본 함수들을 사전의 정의(self)\n",
    "    def __init__(self):\n",
    "        super(Regressor,self).__init__()\n",
    "        self.fc1 = nn.Linear(n_input_dim, 300, bias=True) # 첫 번째 레이어\n",
    "        self.fc2 = nn.Linear(300, 100, bias=True) # 두 번째 레이어\n",
    "        self.fc3 = nn.Linear(100, 1, bias=True) # 출력 레이어\n",
    "        self.relu = nn.ReLU() # 활성화 함수 ( 0보다 작은 값이 나온 경우 0을 반환하고, 0보다 큰 값이 나온 경우 그 값을 그대로 반환함.)\n",
    "        self.dropout = nn.Dropout(0.5) #연산 마다 50%의 노드를 랜덤하게 없앤다\n",
    "\n",
    "    # ▶ 순전파(forward network) 구성, forward process만 구성하면 backword는 자동을 구성됨(autograd, 자동미분)\n",
    "    def forward(self, x):\n",
    "        x = self.relu(self.fc1(x)) # 활성화 함수 적용\n",
    "        x = self.dropout(self.relu(self.fc2(x))) # 은닉층에서 전달할 때, 50% 를 dropout(Connection을 무작위 drop, overfitting 방지)\n",
    "        x = self.relu(self.fc3(x))\n",
    "        return x\n",
    "\n",
    "model = Regressor()\n",
    "print(model)"
   ],
   "id": "756637037959e7cf",
   "outputs": [
    {
     "name": "stdout",
     "output_type": "stream",
     "text": [
      "Regressor(\n",
      "  (fc1): Linear(in_features=169, out_features=300, bias=True)\n",
      "  (fc2): Linear(in_features=300, out_features=100, bias=True)\n",
      "  (fc3): Linear(in_features=100, out_features=1, bias=True)\n",
      "  (relu): ReLU()\n",
      "  (dropout): Dropout(p=0.5, inplace=False)\n",
      ")\n"
     ]
    }
   ],
   "execution_count": 31
  },
  {
   "metadata": {
    "ExecuteTime": {
     "end_time": "2025-05-20T01:42:03.162190Z",
     "start_time": "2025-05-20T01:42:02.499208Z"
    }
   },
   "cell_type": "code",
   "source": [
    "model = Regressor()\n",
    "loss_func = nn.MSELoss()\n",
    "optimizer = torch.optim.Adam(model.parameters(), lr=0.001, weight_decay=1e-7)\n",
    "#weight decay : L2 정규화에서 패널티 계수를 의미함. 클수록 제약조건 강함, 람다(λ)\n",
    "epochs = 100"
   ],
   "id": "19dfa3be63c27031",
   "outputs": [],
   "execution_count": 32
  },
  {
   "metadata": {},
   "cell_type": "markdown",
   "source": [
    "### · 모델 학습 및 평가\n",
    "---\n",
    "* 딥러닝 모델 학습 및 평가"
   ],
   "id": "ad0f8f3d60e0f289"
  },
  {
   "metadata": {
    "ExecuteTime": {
     "end_time": "2025-05-20T01:42:05.812262Z",
     "start_time": "2025-05-20T01:42:03.193617Z"
    }
   },
   "cell_type": "code",
   "source": [
    "model.train()\n",
    "train_loss = []\n",
    "# n = len(train_dl)\n",
    "\n",
    "for epoch in range(epochs):                 # ▶100번 반복 학습\n",
    "    running_loss =0.0                       # ▶ 매 에폭의 평균 loss 구하기 위해서 초기값 0으로\n",
    "    for data in train_dl:                   # ▶ 각 배치를 불러온다\n",
    "        inputs, values = data               # ▶ x, y data split\n",
    "        optimizer.zero_grad()               # ▶ 한번에 학습이 끝면 gradients를 항상 0으로 만들어줘야 함\n",
    "        outputs = model(inputs)             # ▶ 예측값 산출\n",
    "        loss = loss_func(outputs, values)   # ▶ 손실함수 계산 및 최적화\n",
    "        loss.backward()\n",
    "        optimizer.step()\n",
    "        running_loss += loss.item()\n",
    "    epoch_loss = running_loss/len(train_dl) # ▶ 1-epoch 내에 모든 iteration의 Loss의 평균값을 구함\n",
    "    print(\"Loss in epoch :\"+str(epoch)+\" is: \"+str(epoch_loss))\n",
    "    train_loss.append(epoch_loss)\n",
    "print('Last iteration loss value: '+ str(loss.item()))"
   ],
   "id": "faf2a5da2d37122c",
   "outputs": [
    {
     "name": "stdout",
     "output_type": "stream",
     "text": [
      "Loss in epoch :0 is: 17647962906.122448\n",
      "Loss in epoch :1 is: 17621716971.10204\n",
      "Loss in epoch :2 is: 17483375427.918365\n",
      "Loss in epoch :3 is: 17108546936.163265\n",
      "Loss in epoch :4 is: 16389061234.938776\n",
      "Loss in epoch :5 is: 15224663896.816326\n",
      "Loss in epoch :6 is: 13621070795.755102\n",
      "Loss in epoch :7 is: 11799100907.102041\n",
      "Loss in epoch :8 is: 9845392080.979591\n",
      "Loss in epoch :9 is: 7805365686.857142\n",
      "Loss in epoch :10 is: 6429842364.081633\n",
      "Loss in epoch :11 is: 5313735909.877551\n",
      "Loss in epoch :12 is: 4692658855.183674\n",
      "Loss in epoch :13 is: 4304634992.32653\n",
      "Loss in epoch :14 is: 4052179732.897959\n",
      "Loss in epoch :15 is: 3918606814.0408163\n",
      "Loss in epoch :16 is: 3777830594.612245\n",
      "Loss in epoch :17 is: 3797084431.6734695\n",
      "Loss in epoch :18 is: 3656557594.122449\n",
      "Loss in epoch :19 is: 3638460401.632653\n",
      "Loss in epoch :20 is: 3728209619.591837\n",
      "Loss in epoch :21 is: 3591999844.571429\n",
      "Loss in epoch :22 is: 3516273266.9387755\n",
      "Loss in epoch :23 is: 3467307465.142857\n",
      "Loss in epoch :24 is: 3461930108.0816326\n",
      "Loss in epoch :25 is: 3297631981.714286\n",
      "Loss in epoch :26 is: 3105444392.4897957\n",
      "Loss in epoch :27 is: 3157049781.5510206\n",
      "Loss in epoch :28 is: 3166517364.897959\n",
      "Loss in epoch :29 is: 3355548931.9183674\n",
      "Loss in epoch :30 is: 3339693778.285714\n",
      "Loss in epoch :31 is: 2968817273.4693875\n",
      "Loss in epoch :32 is: 3069647536.3265305\n",
      "Loss in epoch :33 is: 3024356163.9183674\n",
      "Loss in epoch :34 is: 3061880675.265306\n",
      "Loss in epoch :35 is: 3120390325.5510206\n",
      "Loss in epoch :36 is: 2957207115.755102\n",
      "Loss in epoch :37 is: 2965370630.5306125\n",
      "Loss in epoch :38 is: 2902790968.163265\n",
      "Loss in epoch :39 is: 2781998748.0816326\n",
      "Loss in epoch :40 is: 2959423162.7755103\n",
      "Loss in epoch :41 is: 2889594526.0408163\n",
      "Loss in epoch :42 is: 2862093856.6530614\n",
      "Loss in epoch :43 is: 2983916762.122449\n",
      "Loss in epoch :44 is: 2812569777.632653\n",
      "Loss in epoch :45 is: 2752125329.632653\n",
      "Loss in epoch :46 is: 2719239238.5306125\n",
      "Loss in epoch :47 is: 2817328920.163265\n",
      "Loss in epoch :48 is: 2772247078.5306125\n",
      "Loss in epoch :49 is: 2772575663.6734695\n",
      "Loss in epoch :50 is: 2743227069.387755\n",
      "Loss in epoch :51 is: 2671376403.591837\n",
      "Loss in epoch :52 is: 2642513592.163265\n",
      "Loss in epoch :53 is: 2609933327.6734695\n",
      "Loss in epoch :54 is: 2647387075.9183674\n",
      "Loss in epoch :55 is: 2707255766.2040815\n",
      "Loss in epoch :56 is: 2555955903.3469386\n",
      "Loss in epoch :57 is: 2758752357.877551\n",
      "Loss in epoch :58 is: 2638930094.367347\n",
      "Loss in epoch :59 is: 2645448082.285714\n",
      "Loss in epoch :60 is: 2618041513.7959185\n",
      "Loss in epoch :61 is: 2614864753.632653\n",
      "Loss in epoch :62 is: 2540787292.0816326\n",
      "Loss in epoch :63 is: 2586966586.7755103\n",
      "Loss in epoch :64 is: 2526933022.0408163\n",
      "Loss in epoch :65 is: 2643062506.4489794\n",
      "Loss in epoch :66 is: 2497381131.102041\n",
      "Loss in epoch :67 is: 2458511851.102041\n",
      "Loss in epoch :68 is: 2373487510.857143\n",
      "Loss in epoch :69 is: 2471903024.3265305\n",
      "Loss in epoch :70 is: 2392146576.979592\n",
      "Loss in epoch :71 is: 2486164199.836735\n",
      "Loss in epoch :72 is: 2482792174.367347\n",
      "Loss in epoch :73 is: 2290167478.857143\n",
      "Loss in epoch :74 is: 2426721596.734694\n",
      "Loss in epoch :75 is: 2399978085.877551\n",
      "Loss in epoch :76 is: 2543012542.6938777\n",
      "Loss in epoch :77 is: 2418897680.3265305\n",
      "Loss in epoch :78 is: 2342572618.4489794\n",
      "Loss in epoch :79 is: 2417196224.6530614\n",
      "Loss in epoch :80 is: 2505303249.632653\n",
      "Loss in epoch :81 is: 2231565577.7959185\n",
      "Loss in epoch :82 is: 2480531858.285714\n",
      "Loss in epoch :83 is: 2346096716.408163\n",
      "Loss in epoch :84 is: 2239710614.857143\n",
      "Loss in epoch :85 is: 2288697112.163265\n",
      "Loss in epoch :86 is: 2195325015.5102043\n",
      "Loss in epoch :87 is: 2314691572.244898\n",
      "Loss in epoch :88 is: 2232505233.632653\n",
      "Loss in epoch :89 is: 2269790757.2244897\n",
      "Loss in epoch :90 is: 2599296265.7959185\n",
      "Loss in epoch :91 is: 2418935407.020408\n",
      "Loss in epoch :92 is: 2434819880.4897957\n",
      "Loss in epoch :93 is: 2324427247.020408\n",
      "Loss in epoch :94 is: 2292430379.755102\n",
      "Loss in epoch :95 is: 2322751841.142857\n",
      "Loss in epoch :96 is: 2339186693.877551\n",
      "Loss in epoch :97 is: 2330508133.2244897\n",
      "Loss in epoch :98 is: 2235137163.755102\n",
      "Loss in epoch :99 is: 2291729645.714286\n",
      "Last iteration loss value: 2483687936.0\n"
     ]
    }
   ],
   "execution_count": 33
  },
  {
   "metadata": {
    "ExecuteTime": {
     "end_time": "2025-05-20T01:42:05.881994Z",
     "start_time": "2025-05-20T01:42:05.846354Z"
    }
   },
   "cell_type": "code",
   "source": [
    "# ▶ train loss 출력\n",
    "plt.style.use(['dark_background'])\n",
    "\n",
    "plt.plot(train_loss)\n",
    "plt.gcf().set_size_inches(10 ,5)\n",
    "plt.show();"
   ],
   "id": "fdfbca0315cef905",
   "outputs": [
    {
     "data": {
      "text/plain": [
       "<Figure size 1000x500 with 1 Axes>"
      ],
      "image/png": "[encoded data removed]"
     },
     "metadata": {},
     "output_type": "display_data"
    }
   ],
   "execution_count": 34
  },
  {
   "metadata": {
    "ExecuteTime": {
     "end_time": "2025-05-20T01:42:05.921436Z",
     "start_time": "2025-05-20T01:42:05.915957Z"
    }
   },
   "cell_type": "code",
   "source": [
    "predictions = torch.tensor([], dtype=torch.float) # ▶ 예측값 저장을 위한 빈 텐서\n",
    "actual = torch.tensor([], dtype=torch.float) # ▶ 실제값 저장을 위한 빈 텐서\n",
    "\n",
    "\n",
    "with torch.no_grad(): # ▶requires_grad 비활성화\n",
    "    model.eval() # ▶ dropout과 같은 모델 학습시에만 사용하는 기법들을 비활성화\n",
    "\n",
    "    # ▶ 배치 단위로 데이터를 예측하고 예측값과 실제값을 누적해서 저장\n",
    "    for data in test_loader:\n",
    "        inputs, values = data\n",
    "        outputs = model(inputs)\n",
    "\n",
    "        # ▶ torch.cat : 원하는 dimension방향으로 텐서를 나란하게 쌓아주는 기능 0(아래쪽), 1(오른쪽)\n",
    "        predictions = torch.cat((predictions, outputs), 0)\n",
    "        actual = torch.cat((actual, values), 0)\n",
    "\n",
    "predictions = predictions.numpy()\n",
    "actual = actual.numpy()"
   ],
   "id": "1ac3b98981eaec93",
   "outputs": [],
   "execution_count": 35
  },
  {
   "metadata": {
    "ExecuteTime": {
     "end_time": "2025-05-20T01:42:05.959558Z",
     "start_time": "2025-05-20T01:42:05.955823Z"
    }
   },
   "cell_type": "code",
   "source": "df['salary_in_usd'].describe()",
   "id": "ed0c7be89a3d4673",
   "outputs": [
    {
     "data": {
      "text/plain": [
       "count       607.000000\n",
       "mean     112297.869852\n",
       "std       70957.259411\n",
       "min        2859.000000\n",
       "25%       62726.000000\n",
       "50%      101570.000000\n",
       "75%      150000.000000\n",
       "max      600000.000000\n",
       "Name: salary_in_usd, dtype: float64"
      ]
     },
     "execution_count": 36,
     "metadata": {},
     "output_type": "execute_result"
    }
   ],
   "execution_count": 36
  },
  {
   "metadata": {
    "ExecuteTime": {
     "end_time": "2025-05-20T01:42:06.015649Z",
     "start_time": "2025-05-20T01:42:06.012686Z"
    }
   },
   "cell_type": "code",
   "source": [
    "import numpy as np\n",
    "from sklearn.metrics import mean_squared_error\n",
    "np.sqrt(mean_squared_error(list(predictions.squeeze()), list(actual.squeeze())))"
   ],
   "id": "a0b6aa0314707a38",
   "outputs": [
    {
     "data": {
      "text/plain": [
       "np.float64(52274.26580425419)"
      ]
     },
     "execution_count": 37,
     "metadata": {},
     "output_type": "execute_result"
    }
   ],
   "execution_count": 37
  },
  {
   "metadata": {
    "ExecuteTime": {
     "end_time": "2025-05-20T01:42:06.052241Z",
     "start_time": "2025-05-20T01:42:06.039559Z"
    }
   },
   "cell_type": "code",
   "source": [
    "import numpy as np\n",
    "from sklearn.metrics import mean_absolute_error, r2_score\n",
    "\n",
    "def evaluation(dataloader):\n",
    "\n",
    "    predictions = torch.tensor([], dtype=torch.float) # ▶ 예측값 저장을 위한 빈 텐서\n",
    "    actual = torch.tensor([], dtype=torch.float) # ▶ 실제값 저장을 위한 빈 텐서\n",
    "    with torch.no_grad(): # ▶ requires_grad 비활성화\n",
    "        model.eval() # ▶ dropout과 같은 모델 학습시에만 사용하는 기법들을 비활성화\n",
    "\n",
    "        # ▶ 배치 단위로 데이터를 예측하고 예측값과 실제값을 누적해서 저장\n",
    "        for data in dataloader:\n",
    "            inputs, values = data\n",
    "            outputs = model(inputs)\n",
    "\n",
    "            # ▶ torch.cat : 원하는 dimension방향으로 텐서를 나란하게 쌓아주는 기능 0(아래쪽), 1(오른쪽)\n",
    "            predictions = torch.cat((predictions, outputs), 0)\n",
    "            actual = torch.cat((actual, values), 0)\n",
    "\n",
    "    predictions = predictions.numpy()\n",
    "    predictions = list(predictions.squeeze())\n",
    "\n",
    "    actual = actual.numpy()\n",
    "    actual = list(actual.squeeze())\n",
    "\n",
    "    rmse = np.sqrt(mean_squared_error(predictions, actual))\n",
    "    r2 = r2_score(actual, predictions)\n",
    "\n",
    "    return rmse, r2\n",
    "\n",
    "\n",
    "train_rmse, train_r2 = evaluation(train_dl)\n",
    "test_rmse, test_r2 = evaluation(test_loader)\n",
    "\n",
    "print('학습용 셋(rmse) :', train_rmse, '/ 학습용 셋(r2) :', train_r2)\n",
    "print('테스트 셋(rmse) :', test_rmse, '/ 테스트 셋(r2) :', test_r2)"
   ],
   "id": "f7b12454161a2771",
   "outputs": [
    {
     "name": "stdout",
     "output_type": "stream",
     "text": [
      "학습용 셋(rmse) : 44756.902507250736 / 학습용 셋(r2) : 0.5928696303847183\n",
      "테스트 셋(rmse) : 52274.26580425419 / 테스트 셋(r2) : 0.49807692254718505\n"
     ]
    }
   ],
   "execution_count": 38
  },
  {
   "metadata": {
    "ExecuteTime": {
     "end_time": "2025-05-20T01:42:06.088039Z",
     "start_time": "2025-05-20T01:42:06.086416Z"
    }
   },
   "cell_type": "code",
   "source": "",
   "id": "bb48a25779f78671",
   "outputs": [],
   "execution_count": null
  }
 ],
 "metadata": {
  "kernelspec": {
   "display_name": "Python 3",
   "language": "python",
   "name": "python3"
  },
  "language_info": {
   "codemirror_mode": {
    "name": "ipython",
    "version": 2
   },
   "file_extension": ".py",
   "mimetype": "text/x-python",
   "name": "python",
   "nbconvert_exporter": "python",
   "pygments_lexer": "ipython2",
   "version": "2.7.6"
  }
 },
 "nbformat": 4,
 "nbformat_minor": 5
}
